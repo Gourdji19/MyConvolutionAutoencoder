{
  "nbformat": 4,
  "nbformat_minor": 0,
  "metadata": {
    "colab": {
      "name": "CNNtest.ipynb",
      "provenance": [],
      "include_colab_link": true
    },
    "kernelspec": {
      "name": "python3",
      "display_name": "Python 3"
    },
    "accelerator": "GPU"
  },
  "cells": [
    {
      "cell_type": "markdown",
      "metadata": {
        "id": "view-in-github",
        "colab_type": "text"
      },
      "source": [
        "<a href=\"https://colab.research.google.com/github/Gourdji19/MyConvolutionAutoencoder/blob/master/CNNtest.ipynb\" target=\"_parent\"><img src=\"https://colab.research.google.com/assets/colab-badge.svg\" alt=\"Open In Colab\"/></a>"
      ]
    },
    {
      "cell_type": "code",
      "metadata": {
        "id": "ButEk0BUAOsV",
        "colab_type": "code",
        "colab": {}
      },
      "source": [
        "from keras.datasets import mnist\n",
        "from keras.layers import Input, Dense, Flatten, Reshape\n",
        "from keras.models import Model\n",
        "from keras.layers import Conv2D, MaxPooling2D, UpSampling2D\n",
        "import numpy as np\n",
        "import seaborn as sns\n",
        "import matplotlib.pyplot as plt\n",
        "\n",
        "(x_train, y_train), (x_test, y_test) = mnist.load_data()\n",
        "\n",
        "x_train = x_train.astype('float32') / 255.\n",
        "x_test  = x_test .astype('float32') / 255.\n",
        "x_train = np.reshape(x_train, (len(x_train), 28, 28, 1))\n",
        "x_test  = np.reshape(x_test,  (len(x_test),  28, 28, 1))"
      ],
      "execution_count": 0,
      "outputs": []
    },
    {
      "cell_type": "code",
      "metadata": {
        "id": "Ijs2V4v9ArP-",
        "colab_type": "code",
        "colab": {}
      },
      "source": [
        "def create_deep_conv_ae():\n",
        "    input_img = Input(shape=(28, 28, 1))\n",
        "\n",
        "    x = Conv2D(128, (7, 7), activation='relu', padding='same')(input_img)\n",
        "    x = MaxPooling2D((2, 2), padding='same')(x)\n",
        "    x = Conv2D(32, (2, 2), activation='relu', padding='same')(x)\n",
        "    x = MaxPooling2D((2, 2), padding='same')(x)\n",
        "    encoded = Conv2D(1, (7, 7), activation='relu', padding='same')(x)\n",
        "\n",
        "    # На этом моменте представление  (7, 7, 1) т.е. 49-размерное\n",
        "\n",
        "    input_encoded = Input(shape=(7, 7, 1))\n",
        "    x = Conv2D(32, (7, 7), activation='relu', padding='same')(input_encoded)\n",
        "    x = UpSampling2D((2, 2))(x)\n",
        "    x = Conv2D(128, (2, 2), activation='relu', padding='same')(x)\n",
        "    x = UpSampling2D((2, 2))(x)\n",
        "    decoded = Conv2D(1, (7, 7), activation='sigmoid', padding='same')(x)\n",
        "\n",
        "    # Модели\n",
        "    encoder = Model(input_img, encoded, name=\"encoder\")\n",
        "    decoder = Model(input_encoded, decoded, name=\"decoder\")\n",
        "    autoencoder = Model(input_img, decoder(encoder(input_img)), name=\"autoencoder\")\n",
        "    return encoder, decoder, autoencoder"
      ],
      "execution_count": 0,
      "outputs": []
    },
    {
      "cell_type": "code",
      "metadata": {
        "id": "_cGUbfRqCT_0",
        "colab_type": "code",
        "outputId": "4f8e05ce-a525-45ed-966c-1b38df004faa",
        "colab": {
          "base_uri": "https://localhost:8080/",
          "height": 255
        }
      },
      "source": [
        "c_encoder, c_decoder, c_autoencoder = create_deep_conv_ae()\n",
        "c_autoencoder.compile(optimizer='adam', loss='binary_crossentropy')\n",
        "\n",
        "c_autoencoder.summary()"
      ],
      "execution_count": 15,
      "outputs": [
        {
          "output_type": "stream",
          "text": [
            "Model: \"autoencoder\"\n",
            "_________________________________________________________________\n",
            "Layer (type)                 Output Shape              Param #   \n",
            "=================================================================\n",
            "input_3 (InputLayer)         (None, 28, 28, 1)         0         \n",
            "_________________________________________________________________\n",
            "encoder (Model)              (None, 7, 7, 1)           24385     \n",
            "_________________________________________________________________\n",
            "decoder (Model)              (None, 28, 28, 1)         24385     \n",
            "=================================================================\n",
            "Total params: 48,770\n",
            "Trainable params: 48,770\n",
            "Non-trainable params: 0\n",
            "_________________________________________________________________\n"
          ],
          "name": "stdout"
        }
      ]
    },
    {
      "cell_type": "code",
      "metadata": {
        "id": "h-SNb25KEb-c",
        "colab_type": "code",
        "colab": {
          "base_uri": "https://localhost:8080/",
          "height": 85
        },
        "outputId": "0b94722e-b203-4212-f793-a731d05977a9"
      },
      "source": [
        "c_autoencoder.fit(x_train, x_train,\n",
        "                 epochs=1,\n",
        "                 batch_size=256,\n",
        "                 shuffle=True,\n",
        "                 validation_data=(x_test, x_test))"
      ],
      "execution_count": 17,
      "outputs": [
        {
          "output_type": "stream",
          "text": [
            "Train on 60000 samples, validate on 10000 samples\n",
            "Epoch 1/1\n",
            "60000/60000 [==============================] - 6s 102us/step - loss: 0.0759 - val_loss: 0.0749\n"
          ],
          "name": "stdout"
        },
        {
          "output_type": "execute_result",
          "data": {
            "text/plain": [
              "<keras.callbacks.History at 0x7f4a732eba90>"
            ]
          },
          "metadata": {
            "tags": []
          },
          "execution_count": 17
        }
      ]
    },
    {
      "cell_type": "code",
      "metadata": {
        "id": "fMAnhhseF6EQ",
        "colab_type": "code",
        "colab": {}
      },
      "source": [
        "def plot_digits(*args):\n",
        " args = [x.squeeze() for x in args]\n",
        " n = min([x.shape[0] for x in args])\n",
        "\n",
        " plt.figure(figsize=(2 * n, 2 * len(args)))\n",
        " for j in range(n):\n",
        "  for i in range(len(args)):\n",
        "   ax = plt.subplot(len(args), n, i * n + j + 1)\n",
        "   plt.imshow(args[i][j])\n",
        "   plt.gray()\n",
        "   ax.get_xaxis().set_visible(False)\n",
        "   ax.get_yaxis().set_visible(False)\n",
        "\n",
        " plt.show()"
      ],
      "execution_count": 0,
      "outputs": []
    },
    {
      "cell_type": "code",
      "metadata": {
        "id": "887oJsAyGvBX",
        "colab_type": "code",
        "colab": {
          "base_uri": "https://localhost:8080/",
          "height": 248
        },
        "outputId": "b9469939-525f-4757-bf3f-5bc8326b088b"
      },
      "source": [
        "n = 10\n",
        "\n",
        "imgs = x_test[:n]\n",
        "encoded_imgs = c_encoder.predict(imgs, batch_size=n)\n",
        "decoded_imgs = c_decoder.predict(encoded_imgs, batch_size=n)\n",
        "\n",
        "plot_digits(imgs, decoded_imgs)"
      ],
      "execution_count": 19,
      "outputs": [
        {
          "output_type": "display_data",
          "data": {
            "image/png": "[encoded data removed]",
            "text/plain": [
              "<Figure size 1440x288 with 20 Axes>"
            ]
          },
          "metadata": {
            "tags": []
          }
        }
      ]
    }
  ]
}